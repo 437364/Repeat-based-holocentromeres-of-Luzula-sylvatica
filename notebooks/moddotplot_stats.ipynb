{
 "cells": [
  {
   "cell_type": "markdown",
   "metadata": {},
   "source": [
    "# Calculate mean similarity in functional vs nofunctional centromeric satellite arrays\n",
    "The input bed files are one of the outputs from moddotplot"
   ]
  },
  {
   "cell_type": "code",
   "execution_count": 1,
   "metadata": {},
   "outputs": [],
   "source": [
    "\n",
    "import pandas as pd\n"
   ]
  },
  {
   "cell_type": "code",
   "execution_count": 9,
   "metadata": {},
   "outputs": [
    {
     "name": "stdout",
     "output_type": "stream",
     "text": [
      "count    466499.000000\n",
      "mean         87.151882\n",
      "std           3.952873\n",
      "min          80.014795\n",
      "25%          84.032682\n",
      "50%          86.416031\n",
      "75%          90.458432\n",
      "max         100.000000\n",
      "Name: perID_by_events, dtype: float64\n"
     ]
    }
   ],
   "source": [
    "# load data\n",
    "df = pd.read_csv('data/functional_arrays/moddotplots/lusy1_nonfunctional_arrays.bed', sep='\\t', index_col=0)\n",
    "print(df['perID_by_events'].describe())\n",
    "lusy1_nonfunctional = df['perID_by_events'].values\n"
   ]
  },
  {
   "cell_type": "code",
   "execution_count": 10,
   "metadata": {},
   "outputs": [
    {
     "name": "stdout",
     "output_type": "stream",
     "text": [
      "count    457734.000000\n",
      "mean         88.020711\n",
      "std           3.302094\n",
      "min          80.014795\n",
      "25%          85.551255\n",
      "50%          88.190636\n",
      "75%          90.572366\n",
      "max         100.000000\n",
      "Name: perID_by_events, dtype: float64\n"
     ]
    }
   ],
   "source": [
    "# load data\n",
    "df = pd.read_csv('data/functional_arrays/moddotplots/lusy1_functional_fragments.bed', sep='\\t', index_col=0)\n",
    "print(df['perID_by_events'].describe())\n",
    "lusy1_functional = df['perID_by_events'].values"
   ]
  },
  {
   "cell_type": "code",
   "execution_count": 11,
   "metadata": {},
   "outputs": [
    {
     "name": "stdout",
     "output_type": "stream",
     "text": [
      "count    316024.000000\n",
      "mean         85.098104\n",
      "std           3.417724\n",
      "min          80.003054\n",
      "25%          82.195705\n",
      "50%          84.931019\n",
      "75%          87.461461\n",
      "max         100.000000\n",
      "Name: perID_by_events, dtype: float64\n"
     ]
    }
   ],
   "source": [
    "# load data\n",
    "df = pd.read_csv('data/functional_arrays/moddotplots/lusy2_nonfunctional_arrays.bed', sep='\\t', index_col=0)\n",
    "print(df['perID_by_events'].describe())\n",
    "lusy2_nonfunctional = df['perID_by_events'].values\n"
   ]
  },
  {
   "cell_type": "code",
   "execution_count": 12,
   "metadata": {},
   "outputs": [
    {
     "name": "stdout",
     "output_type": "stream",
     "text": [
      "count    321260.000000\n",
      "mean         89.622645\n",
      "std           4.641464\n",
      "min          80.014795\n",
      "25%          85.966566\n",
      "50%          91.950369\n",
      "75%          93.231317\n",
      "max         100.000000\n",
      "Name: perID_by_events, dtype: float64\n"
     ]
    }
   ],
   "source": [
    "# load data\n",
    "df = pd.read_csv('data/functional_arrays/moddotplots/lusy2_functional_fragments.bed', sep='\\t', index_col=0)\n",
    "print(df['perID_by_events'].describe())\n",
    "lusy2_functional = df['perID_by_events'].values"
   ]
  },
  {
   "cell_type": "code",
   "execution_count": 16,
   "metadata": {},
   "outputs": [
    {
     "name": "stdout",
     "output_type": "stream",
     "text": [
      "MannwhitneyuResult(statistic=90118071219.5, pvalue=0.0)\n",
      "MannwhitneyuResult(statistic=23008182671.5, pvalue=0.0)\n"
     ]
    }
   ],
   "source": [
    "from scipy.stats import mannwhitneyu\n",
    "# compare distributions\n",
    "print(mannwhitneyu(lusy1_nonfunctional, lusy1_functional, alternative='less'))\n",
    "print(mannwhitneyu(lusy2_nonfunctional, lusy2_functional, alternative='less'))\n"
   ]
  }
 ],
 "metadata": {
  "kernelspec": {
   "display_name": "te_pipeline",
   "language": "python",
   "name": "python3"
  },
  "language_info": {
   "codemirror_mode": {
    "name": "ipython",
    "version": 3
   },
   "file_extension": ".py",
   "mimetype": "text/x-python",
   "name": "python",
   "nbconvert_exporter": "python",
   "pygments_lexer": "ipython3",
   "version": "3.10.8"
  }
 },
 "nbformat": 4,
 "nbformat_minor": 2
}
