{
 "cells": [
  {
   "cell_type": "markdown",
   "metadata": {},
   "source": [
    "# Heatmap of genomic feature colocalization created by Monte Carlo simulation\n"
   ]
  },
  {
   "cell_type": "markdown",
   "metadata": {},
   "source": [
    "Limitations: null distribution presumes random distribution. Doesn't account for regional heterogeneity such as chromatin accessibility or different chromosomes, feature interdependence such as clustering, and assembly gaps during the randomization process. This is necessary to take into account when interpreting the results. See [Kanduri *et al.* 2019](https://doi.org/10.1093/bioinformatics/bty835).\n",
    "\n",
    "Used metric: proportion of bases from query (shuffled) feature overlapping reference (stationary) feature"
   ]
  },
  {
   "cell_type": "code",
   "execution_count": 10,
   "metadata": {},
   "outputs": [],
   "source": [
    "import matplotlib.pyplot as plt\n",
    "import numpy as np\n",
    "import pandas as pd\n",
    "import seaborn as sns\n",
    "import pybedtools\n",
    "from scipy import stats\n",
    "import matplotlib.colors as mcolors\n"
   ]
  },
  {
   "cell_type": "code",
   "execution_count": 11,
   "metadata": {},
   "outputs": [
    {
     "data": {
      "text/plain": [
       "<BedTool(data/peaks/randomness.bed)>"
      ]
     },
     "execution_count": 11,
     "metadata": {},
     "output_type": "execute_result"
    }
   ],
   "source": [
    "# random feature for control\n",
    "chr_sizes = 'data/chr_sizes/Lsyl_chr_sizes.tsv'\n",
    "randomness = pybedtools.BedTool()\n",
    "randomness = randomness.random(l=15000, n=10000, g=chr_sizes)\n",
    "randomness.saveas('data/peaks/randomness.bed')"
   ]
  },
  {
   "cell_type": "code",
   "execution_count": 12,
   "metadata": {},
   "outputs": [],
   "source": [
    "feature_paths = {}\n",
    "# strict - no merging\n",
    "feature_paths['genes'] = 'data/genes/genes_merged.bed'\n",
    "feature_paths['LTR-TEs'] = 'data/dante_ltr/Lsyl_dante_ltr_merged.bed'\n",
    "feature_paths['LINE'] = 'data/transposons/LINE.bed'\n",
    "feature_paths['H3K4me3'] = 'data/chip-seq/consensus_peaks/H3K4_peaks.bed'\n",
    "feature_paths['H3K9me2'] = 'data/chip-seq/consensus_peaks/H3K9_peaks.bed'\n",
    "# merged - especially useful for distrupted arrays\n",
    "feature_paths['lusy1'] = 'data/satellites/Lusy1_merged_15k.bed'\n",
    "feature_paths['lusy2'] = 'data/satellites/Lusy2_merged_15k.bed'\n",
    "feature_paths['centromere'] = 'data/chip-seq/consensus_peaks/CenH3_150k_merged_units.bed'\n",
    "feature_paths['satellite-free_centromere'] = 'data/chip-seq/consensus_peaks/non_satellite_units.bed'\n",
    "feature_paths['lusy1_functional'] = 'data/satellites/Lusy1_functional_fragments.bed'\n",
    "feature_paths['lusy1_nonfunctional'] = 'data/satellites/Lusy1_nonfunctional_arrays.bed'\n",
    "feature_paths['lusy2_functional'] = 'data/satellites/Lusy2_functional_fragments.bed'\n",
    "feature_paths['lusy2_nonfunctional'] = 'data/satellites/Lusy2_nonfunctional_arrays.bed'\n",
    "feature_paths['randomness'] = 'data/peaks/randomness.bed'\n",
    "\n",
    "\n",
    "\n",
    "\n",
    "source_fasta = 'data/assembly/Lsyl.fasta'\n",
    "# strict - no merging of close arrays\n",
    "satellites  = 'data/satellites/Luzula_sylvatica_all_sat.bed'\n",
    "\n",
    "rounds = 1000\n",
    "pybedtools.set_tempdir('/media/kratka/DATA1/scratch')\n",
    "bed_dict = {}\n",
    "for feature in feature_paths:\n",
    "    bed_dict[feature] = pybedtools.BedTool(feature_paths[feature]).sort().merge()\n"
   ]
  },
  {
   "cell_type": "code",
   "execution_count": 13,
   "metadata": {},
   "outputs": [],
   "source": [
    "def simulate_coverage(feature_name, bed_dict, chr_sizes, rounds, source_fasta, exclusion_bed=None):\n",
    "    feature_results_dict = {}\n",
    "    beds_stationary = {}\n",
    "    for feature in bed_dict:\n",
    "        if feature != feature_name:\n",
    "            beds_stationary[feature] = bed_dict[feature]\n",
    "            feature_results_dict[feature] = []\n",
    "        else:\n",
    "            bed_shuffle = bed_dict[feature_name]\n",
    "    feature_results_dict['gc_content'] = []\n",
    "    for i in range(rounds):\n",
    "        if exclusion_bed:\n",
    "            shuffled_bed = bed_shuffle.shuffle(g=chr_sizes, excl=exclusion_bed)\n",
    "        else:\n",
    "            shuffled_bed = bed_shuffle.shuffle(g=chr_sizes)\n",
    "        for stationary_feature in beds_stationary:\n",
    "            shuffled_coverage = shuffled_bed.coverage(beds_stationary[stationary_feature])\n",
    "            overlap_bases = shuffled_coverage.to_dataframe().iloc[:,-3].sum()\n",
    "            all_bases = shuffled_coverage.to_dataframe().iloc[:,-2].sum()\n",
    "            overlap_proportion = overlap_bases/all_bases\n",
    "            feature_results_dict[stationary_feature].append(overlap_proportion)\n",
    "        nucleotide_content = shuffled_bed.nucleotide_content(fi=source_fasta)\n",
    "        at_bases = nucleotide_content.to_dataframe(comment='#').iloc[:,[-7,-4]].sum().sum()\n",
    "        gc_bases = nucleotide_content.to_dataframe(comment='#').iloc[:,[-6,-5]].sum().sum()\n",
    "        gc_content = gc_bases/(at_bases+gc_bases)\n",
    "        feature_results_dict['gc_content'].append(gc_content)        \n",
    "    percentile_dict = {}\n",
    "    overlap_dict = {}\n",
    "    for stationary_feature in feature_results_dict:\n",
    "        if stationary_feature == 'gc_content':\n",
    "            nucleotide_content = bed_shuffle.nucleotide_content(fi=source_fasta)\n",
    "            at_bases = nucleotide_content.to_dataframe(comment='#').iloc[:,[-7,-4]].sum().sum()\n",
    "            gc_bases = nucleotide_content.to_dataframe(comment='#').iloc[:,[-6,-5]].sum().sum()\n",
    "            gc_content = gc_bases/(at_bases+gc_bases)\n",
    "            overlap_dict['gc_content'] = gc_content\n",
    "            percentile = stats.percentileofscore(feature_results_dict['gc_content'], gc_content)\n",
    "            percentile_dict['gc_content'] = percentile\n",
    "            continue\n",
    "        real_coverage = bed_shuffle.coverage(beds_stationary[stationary_feature])\n",
    "        overlap_bases = real_coverage.to_dataframe().iloc[:,-3].sum()\n",
    "        all_bases = real_coverage.to_dataframe().iloc[:,-2].sum()\n",
    "        overlap_proportion = overlap_bases/all_bases\n",
    "        overlap_dict[stationary_feature] = overlap_proportion\n",
    "        percentile = stats.percentileofscore(feature_results_dict[stationary_feature], overlap_proportion)\n",
    "        percentile_dict[stationary_feature] = percentile\n",
    "    return overlap_dict,percentile_dict,feature_results_dict\n",
    "        "
   ]
  },
  {
   "cell_type": "code",
   "execution_count": 14,
   "metadata": {},
   "outputs": [],
   "source": [
    "results = {}\n",
    "satellite_excluded = ['genes', 'satellite-free_centromere']"
   ]
  },
  {
   "cell_type": "code",
   "execution_count": 15,
   "metadata": {},
   "outputs": [
    {
     "name": "stdout",
     "output_type": "stream",
     "text": [
      "genes\n",
      "LTR-TEs\n",
      "LINE\n",
      "H3K4me3\n",
      "H3K9me2\n",
      "lusy1\n",
      "lusy2\n",
      "centromere\n",
      "satellite-free_centromere\n",
      "lusy1_functional\n",
      "lusy1_nonfunctional\n",
      "lusy2_functional\n",
      "lusy2_nonfunctional\n",
      "randomness\n"
     ]
    }
   ],
   "source": [
    "for feature_name in bed_dict:\n",
    "    print(feature_name)\n",
    "    if feature_name in satellite_excluded:\n",
    "        feature_results_dict = {}\n",
    "        overlaps, percentiles, feature_distribution = simulate_coverage(feature_name, bed_dict, chr_sizes, rounds, source_fasta, satellites)\n",
    "        feature_results_dict['overlaps'] = overlaps\n",
    "        feature_results_dict['percentiles'] = percentiles\n",
    "        feature_results_dict['feature_distribution'] = feature_distribution\n",
    "        results[feature_name] = feature_results_dict\n",
    "        \n",
    "    else:\n",
    "        feature_results_dict = {}\n",
    "        overlaps, percentiles, feature_distribution = simulate_coverage(feature_name, bed_dict, chr_sizes, rounds, source_fasta)\n",
    "        feature_results_dict['overlaps'] = overlaps\n",
    "        feature_results_dict['percentiles'] = percentiles\n",
    "        feature_results_dict['feature_distribution'] = feature_distribution\n",
    "        results[feature_name] = feature_results_dict"
   ]
  },
  {
   "cell_type": "code",
   "execution_count": 16,
   "metadata": {},
   "outputs": [],
   "source": [
    "pybedtools.cleanup()\n",
    "\n",
    "# percentiles to table\n",
    "percentiles = {}\n",
    "for feature in results:\n",
    "    percentiles[feature] = results[feature]['percentiles']\n",
    "percentiles_df = pd.DataFrame(percentiles).T\n",
    "percentiles_df.to_csv('data/shuffled/percentiles.tsv', sep='\\t')\n"
   ]
  },
  {
   "cell_type": "code",
   "execution_count": 19,
   "metadata": {},
   "outputs": [],
   "source": [
    "# load percentiles\n",
    "percentiles_df = pd.read_csv('data/shuffled/percentiles.tsv', sep='\\t', index_col=0)\n",
    "# clean up results table\n",
    "row_subset = ['genes', 'LTR-TEs', 'H3K4me3', 'H3K9me2', 'satellite-free_centromere', \n",
    "                    'lusy1_functional', 'lusy1_nonfunctional', 'lusy2_functional', 'lusy2_nonfunctional']\n",
    "short_row_labels = ['genes*', 'LTR-TEs', 'H3K4me3', 'H3K9me2', 'sat-free CENH3*', \n",
    "                    'Lusy1 func.', 'Lusy1 nonfunc.', 'Lusy2 func.', 'Lusy2 nonfunc.']\n",
    "column_subset = row_subset + ['gc_content']\n",
    "short_column_labels = ['genes', 'LTR-TEs', 'H3K4me3', 'H3K9me2', 'sat-free CENH3', \n",
    "                    'Lusy1 func.', 'Lusy1 nonfunc.', 'Lusy2 func.', 'Lusy2 nonfunc.', 'GC content']\n",
    "# choose fetures in both rows and columns\n",
    "plot_df = percentiles_df.loc[row_subset, column_subset]\n",
    "\n",
    "# change lusy1 and lusy2 satellite colums vs non-satellite centromere rows to nan\n",
    "satellite_features = ['lusy1_functional', 'lusy1_nonfunctional', 'lusy2_functional', 'lusy2_nonfunctional']\n",
    "satellite_excluded_features = ['genes', 'satellite-free_centromere']\n",
    "#plot_df.loc[satellite_features, satellite_excluded_features] = np.nan\n",
    "plot_df.loc[satellite_excluded_features, satellite_features] = np.nan\n",
    "plot_df.loc[satellite_features, satellite_excluded_features] = np.nan\n",
    "\n",
    "# split into categories (100, 100-99, 99-1, 1-0, 0)\n",
    "categories_df = plot_df.copy()\n",
    "categories_df[plot_df==100] = 1\n",
    "categories_df[(plot_df<100) & (plot_df>=99)] = 2\n",
    "categories_df[(plot_df<99) & (plot_df>=1)] = 3\n",
    "categories_df[plot_df<1] = 4\n",
    "categories_df[plot_df==0] = 5\n",
    "categories_df[plot_df.isna()] = np.nan\n",
    "\n",
    "category_names = {1:'100', 2:'100-99', 3:'99-1', 4:'1-0', 5:'0'}"
   ]
  },
  {
   "cell_type": "code",
   "execution_count": 20,
   "metadata": {},
   "outputs": [
    {
     "data": {
      "image/png": "[encoded data removed]",
      "text/plain": [
       "<Figure size 640x480 with 1 Axes>"
      ]
     },
     "metadata": {},
     "output_type": "display_data"
    }
   ],
   "source": [
    "# Set the default font family to Arial\n",
    "plt.rcParams['text.usetex'] = False\n",
    "plt.rcParams['font.family'] = 'sans-serif'\n",
    "plt.rcParams['font.sans-serif'] = ['Arial']\n",
    "# heatmap with categorical scale\n",
    "# Define the colors\n",
    "colors = ['#f30600f8', 'white', '#0004f2ff']\n",
    "cmap = mcolors.LinearSegmentedColormap.from_list('custom_cmap', colors, N=5)\n",
    "# set nan color\n",
    "cmap.set_bad('grey')\n",
    "fig, ax = plt.subplots()\n",
    "# legend ouside the plot\n",
    "legend_elements = [plt.Rectangle((0,0),1,1,facecolor='#f30600f8', edgecolor='black', label='100'),\n",
    "                   plt.Rectangle((0,0),1,1,facecolor='#f98280', edgecolor='black', label='(100-99]'),\n",
    "                   plt.Rectangle((0,0),1,1,facecolor='white', edgecolor='black', label='(99-1]'),\n",
    "                   plt.Rectangle((0,0),1,1,facecolor='#8082f8', edgecolor='black', label='(1-0)'),\n",
    "                   plt.Rectangle((0,0),1,1,facecolor='#0004f2ff', edgecolor='black', label='0'),\n",
    "                   plt.Rectangle((0,0),1,1,facecolor='grey', edgecolor='black', label='Not applicable')]\n",
    "ax.legend(handles=legend_elements, loc='upper left', bbox_to_anchor=(1, 1), title='Percentile')\n",
    "# heatmap with separation lines\n",
    "sns.heatmap(categories_df, cmap=cmap, ax=ax, cbar=False, linewidths=0.5, linecolor='black', square=True)\n",
    "# set labels\n",
    "plt.xticks(np.arange(len(short_column_labels))+0.5, short_column_labels, rotation=45, ha='right')\n",
    "plt.yticks(np.arange(len(short_row_labels))+0.5, short_row_labels, rotation=0, va='center')\n",
    "plt.tight_layout()\n",
    "plt.savefig('data/figures/heatmap_shuffle.svg', dpi=300)"
   ]
  }
 ],
 "metadata": {
  "kernelspec": {
   "display_name": "te_pipeline",
   "language": "python",
   "name": "python3"
  },
  "language_info": {
   "codemirror_mode": {
    "name": "ipython",
    "version": 3
   },
   "file_extension": ".py",
   "mimetype": "text/x-python",
   "name": "python",
   "nbconvert_exporter": "python",
   "pygments_lexer": "ipython3",
   "version": "3.10.8"
  }
 },
 "nbformat": 4,
 "nbformat_minor": 2
}
