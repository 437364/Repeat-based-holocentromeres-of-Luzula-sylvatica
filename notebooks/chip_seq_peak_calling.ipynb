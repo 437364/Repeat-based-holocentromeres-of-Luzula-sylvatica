{
 "cells": [
  {
   "cell_type": "markdown",
   "metadata": {},
   "source": [
    "# ChIP-seq peak calling\n",
    "each bam file was prepared by mapping fastq files to bowtie2 index\n",
    "```bash\n",
    "$index = path/to/reference/genome.fasta\n",
    "$chip_data = path/to/chip-seq/reads.fastq\n",
    "bowtie2-build $index\n",
    "bowtie2 -p 40 -q --very-sensitive-local \\\n",
    "-x $index \\\n",
    "-U $chromatin \\\n",
    "-S unsorted.sam\n",
    "\n",
    "```\n",
    "and then sorted and filtered\n",
    "```bash\n",
    "for f in *.unsorted.sam; do samtools view -@40 -m 1G -h -b -S -o ${f/.sam}.bam $f; done\n",
    "for f in *.bam; do sambamba sort -t 20 -o ${f/_unsorted.bam}.sorted.bam $f; done\n",
    "for f in *.sorted.bam; do sambamba index -t 20 $f; done\n",
    "```\n"
   ]
  },
  {
   "cell_type": "code",
   "execution_count": 2,
   "metadata": {},
   "outputs": [],
   "source": [
    "import os\n",
    "import pybedtools\n"
   ]
  },
  {
   "cell_type": "code",
   "execution_count": 2,
   "metadata": {},
   "outputs": [],
   "source": [
    "bam_dir = \"data/chip-seq/bam_files/\"\n",
    "epic_output_dir = \"data/chip-seq/epic_peaks/\"\n",
    "macs_output_dir = \"data/chip-seq/macs_peaks/\"\n",
    "consensus_output_dir = \"data/chip-seq/consensus_peaks/\"\n",
    "\n",
    "def macs_peak_calling(enriched, input, output_dir=None, target_name = None, genome_size = 800_000_000):\n",
    "    \"\"\"\n",
    "    Call peaks using MACS3\n",
    "    \"\"\"\n",
    "    if output_dir is None:\n",
    "        output_dir = enriched.replace(\".bam\", \"_macs_peaks\")\n",
    "    \n",
    "    if not os.path.exists(output_dir):\n",
    "        os.makedirs(output_dir)\n",
    "\n",
    "    log = os.path.join(output_dir, \"macs.log\")\n",
    "    if target_name is None:\n",
    "        target_name = os.path.basename(enriched).split(\"_\")[0]\n",
    "    \n",
    "    command = f\"macs3 callpeak -t {enriched} -c {input} -f BAM -g {genome_size} --broad --min-length 1000 --broad-cutoff 0.1 -n {target_name} --outdir {output_dir} > {log} 2>&1 || true\"\n",
    "    print(command)\n",
    "    os.system(command)\n",
    "\n",
    "def epic_peak_calling(enriched, input, output_prefix=None, chr_sizes='data/chr_sizes/Lsyl_chr_sizes.tsv'):\n",
    "    \"\"\"\n",
    "    Call peaks using EPIC2\n",
    "    NOTE: epic2 windows end coordinates can be out of chromosome size range\n",
    "    \"\"\"\n",
    "    if output_prefix:\n",
    "        output_path = output_prefix + \".tsv\"\n",
    "    else:\n",
    "        output_path = enriched.replace(\".bam\", \"_epic_peaks.tsv\")\n",
    "    \n",
    "    log = output_path.replace(\".tsv\", \".log\")\n",
    "    # check if output_path parent directory exists\n",
    "    output_dir = os.path.dirname(output_path)\n",
    "    if not os.path.exists(output_dir):\n",
    "        os.makedirs(output_dir)\n",
    "    \n",
    "    command = f\"epic2 -t {enriched} -c {input} --chromsizes {chr_sizes} -m 0 --output {output_path} >{log} 2>&1 || true\"\n",
    "    print(command)\n",
    "    os.system(command)\n",
    "    # convert to bed\n",
    "    command = f\"awk '{{print $1\\\"\\t\\\"$2\\\"\\t\\\"$3}}' {output_path} > {output_path.replace('.tsv', '.bed')}\"\n",
    "    print(command)\n",
    "    os.system(command)\n",
    "\n",
    "def merge_peaks(input_bed, output_bed=None, distance=50_000):\n",
    "    \"\"\"\n",
    "    Merge peaks using pybedtools\n",
    "    \"\"\"\n",
    "    if output_bed is None:\n",
    "        output_bed = input_bed.replace(\".bed\", \"_merged\" + str(distance) + \".bed\")\n",
    "    # check if output_bed parent directory exists\n",
    "    output_dir = os.path.dirname(output_bed)\n",
    "    if not os.path.exists(output_dir):\n",
    "        os.makedirs(output_dir)\n",
    "    # merge peaks\n",
    "    peaks = pybedtools.BedTool(input_bed)\n",
    "    peaks_merged = peaks.merge(d=distance)\n",
    "    peaks_merged = peaks_merged.sort()\n",
    "    peaks_merged.saveas(output_bed)\n",
    "\n",
    "def find_consensus(macs_bed, epic_bed, output_bed=None):\n",
    "    \"\"\"\n",
    "    Find consensus peaks between MACS3 and EPIC2\n",
    "    \"\"\"\n",
    "    if output_bed is None:\n",
    "        output_bed = macs_bed.replace(\".bed\", \"_peaks.bed\")\n",
    "    # check if output_bed parent directory exists\n",
    "    output_dir = os.path.dirname(output_bed)\n",
    "    if not os.path.exists(output_dir):\n",
    "        os.makedirs(output_dir)\n",
    "    # find consensus peaks\n",
    "    macs_peaks = pybedtools.BedTool(macs_bed)\n",
    "    epic_peaks = pybedtools.BedTool(epic_bed)\n",
    "    consensus_peaks_macs = macs_peaks.intersect(epic_peaks, u=True)\n",
    "    consensus_peaks_epic = epic_peaks.intersect(macs_peaks, u=True)\n",
    "    consensus_peaks = consensus_peaks_macs.cat(consensus_peaks_epic, postmerge=True)\n",
    "    consensus_peaks = consensus_peaks.sort()\n",
    "    consensus_peaks.saveas(output_bed)\n",
    "\n",
    "def call_peaks(enriched, input, replicate, merging_distance=50_000):\n",
    "    \"\"\"\n",
    "    Call peaks using MACS3 and EPIC2\n",
    "    \"\"\"\n",
    "    name = enriched + '_' + input + '_' + replicate\n",
    "    macs_peak_calling(os.path.join(bam_dir, enriched + replicate + \".bam\"), os.path.join(bam_dir, input + replicate +\".bam\"), output_dir=os.path.join(macs_output_dir, name), target_name=name, genome_size=800_000_000)\n",
    "    epic_peak_calling(os.path.join(bam_dir, enriched + replicate + \".bam\"), os.path.join(bam_dir, input + replicate +\".bam\"), output_prefix=os.path.join(epic_output_dir, name))\n",
    "    merge_peaks(macs_output_dir + name + '/' + name + '_peaks.broadPeak', macs_output_dir + name + '/' + name + '_macs_merged.bed', merging_distance)\n",
    "    merge_peaks(epic_output_dir + name + '.bed', epic_output_dir + name + '_epic_merged.bed', merging_distance)\n",
    "    find_consensus(macs_output_dir + name + '/' + name + '_macs_merged.bed', epic_output_dir + name + '_epic_merged.bed', consensus_output_dir + name + '_peaks.bed')\n",
    "\n",
    "def intersect_replicates(enriched, input, output_bed=None):\n",
    "    \"\"\"\n",
    "    Intersect peaks between replicates\n",
    "    \"\"\"\n",
    "    name = enriched + '_' + input\n",
    "    if output_bed is None:\n",
    "        output_bed = consensus_output_dir + name + '_intersected_replicates.bed'\n",
    "    \n",
    "    # check if output_bed parent directory exists\n",
    "    output_dir = os.path.dirname(output_bed)\n",
    "    if not os.path.exists(output_dir):\n",
    "        os.makedirs(output_dir)\n",
    "    \n",
    "    # intersect replicates\n",
    "    R1 = pybedtools.BedTool(consensus_output_dir + name + '_R1_peaks.bed')    \n",
    "    R2 = pybedtools.BedTool(consensus_output_dir + name + '_R2_peaks.bed')\n",
    "    intersected = R1.intersect(R2).sort().saveas(output_bed)\n",
    "    not_common_R1 = R1.intersect(R2, v=True).sort()\n",
    "    not_common_R2 = R2.intersect(R1, v=True).sort()\n",
    "    count_of_all_peaks = len(R1) + len(R2)\n",
    "    count_of_not_common_peaks = len(not_common_R1) + len(not_common_R2)\n",
    "    print(f\"Proportion of deleted peaks in {name}: {count_of_not_common_peaks / count_of_all_peaks}\")\n",
    "    \n"
   ]
  },
  {
   "cell_type": "markdown",
   "metadata": {},
   "source": [
    "# CenH3\n",
    "rabbit antibody - control noAbA"
   ]
  },
  {
   "cell_type": "code",
   "execution_count": 39,
   "metadata": {},
   "outputs": [
    {
     "name": "stdout",
     "output_type": "stream",
     "text": [
      "macs3 callpeak -t data/chip-seq/bam_files/CenH3R1.bam -c data/chip-seq/bam_files/inputR1.bam -f BAM -g 800000000 --broad --min-length 1000 --broad-cutoff 0.1 -n CenH3_input_R1 --outdir data/chip-seq/macs_peaks/CenH3_input_R1 > data/chip-seq/macs_peaks/CenH3_input_R1/macs.log 2>&1 || true\n",
      "epic2 -t data/chip-seq/bam_files/CenH3R1.bam -c data/chip-seq/bam_files/inputR1.bam --chromsizes data/chr_sizes/Lsyl_chr_sizes.tsv -m 0 --output data/chip-seq/epic_peaks/CenH3_input_R1.tsv >data/chip-seq/epic_peaks/CenH3_input_R1.log 2>&1 || true\n",
      "awk '{print $1\"\t\"$2\"\t\"$3}' data/chip-seq/epic_peaks/CenH3_input_R1.tsv > data/chip-seq/epic_peaks/CenH3_input_R1.bed\n",
      "macs3 callpeak -t data/chip-seq/bam_files/CenH3R2.bam -c data/chip-seq/bam_files/inputR2.bam -f BAM -g 800000000 --broad --min-length 1000 --broad-cutoff 0.1 -n CenH3_input_R2 --outdir data/chip-seq/macs_peaks/CenH3_input_R2 > data/chip-seq/macs_peaks/CenH3_input_R2/macs.log 2>&1 || true\n",
      "epic2 -t data/chip-seq/bam_files/CenH3R2.bam -c data/chip-seq/bam_files/inputR2.bam --chromsizes data/chr_sizes/Lsyl_chr_sizes.tsv -m 0 --output data/chip-seq/epic_peaks/CenH3_input_R2.tsv >data/chip-seq/epic_peaks/CenH3_input_R2.log 2>&1 || true\n",
      "awk '{print $1\"\t\"$2\"\t\"$3}' data/chip-seq/epic_peaks/CenH3_input_R2.tsv > data/chip-seq/epic_peaks/CenH3_input_R2.bed\n",
      "macs3 callpeak -t data/chip-seq/bam_files/CenH3R1.bam -c data/chip-seq/bam_files/noabaR1.bam -f BAM -g 800000000 --broad --min-length 1000 --broad-cutoff 0.1 -n CenH3_noaba_R1 --outdir data/chip-seq/macs_peaks/CenH3_noaba_R1 > data/chip-seq/macs_peaks/CenH3_noaba_R1/macs.log 2>&1 || true\n",
      "epic2 -t data/chip-seq/bam_files/CenH3R1.bam -c data/chip-seq/bam_files/noabaR1.bam --chromsizes data/chr_sizes/Lsyl_chr_sizes.tsv -m 0 --output data/chip-seq/epic_peaks/CenH3_noaba_R1.tsv >data/chip-seq/epic_peaks/CenH3_noaba_R1.log 2>&1 || true\n",
      "awk '{print $1\"\t\"$2\"\t\"$3}' data/chip-seq/epic_peaks/CenH3_noaba_R1.tsv > data/chip-seq/epic_peaks/CenH3_noaba_R1.bed\n",
      "macs3 callpeak -t data/chip-seq/bam_files/CenH3R2.bam -c data/chip-seq/bam_files/noabaR2.bam -f BAM -g 800000000 --broad --min-length 1000 --broad-cutoff 0.1 -n CenH3_noaba_R2 --outdir data/chip-seq/macs_peaks/CenH3_noaba_R2 > data/chip-seq/macs_peaks/CenH3_noaba_R2/macs.log 2>&1 || true\n",
      "epic2 -t data/chip-seq/bam_files/CenH3R2.bam -c data/chip-seq/bam_files/noabaR2.bam --chromsizes data/chr_sizes/Lsyl_chr_sizes.tsv -m 0 --output data/chip-seq/epic_peaks/CenH3_noaba_R2.tsv >data/chip-seq/epic_peaks/CenH3_noaba_R2.log 2>&1 || true\n",
      "awk '{print $1\"\t\"$2\"\t\"$3}' data/chip-seq/epic_peaks/CenH3_noaba_R2.tsv > data/chip-seq/epic_peaks/CenH3_noaba_R2.bed\n"
     ]
    }
   ],
   "source": [
    "enriched = 'CenH3'\n",
    "input = ['input', 'noaba']\n",
    "replicate = ['R1', 'R2']\n",
    "merging_distance = 50_000\n",
    "\n",
    "for i in input:\n",
    "    for r in replicate:\n",
    "        call_peaks(enriched, i, r, merging_distance)\n",
    "    intersect_replicates(enriched, i)\n",
    "\n",
    "\n"
   ]
  },
  {
   "cell_type": "markdown",
   "metadata": {},
   "source": [
    "# H3K4me3\n",
    "\n",
    "rabbit antibody - control noAbA\n"
   ]
  },
  {
   "cell_type": "code",
   "execution_count": 3,
   "metadata": {},
   "outputs": [
    {
     "name": "stdout",
     "output_type": "stream",
     "text": [
      "macs3 callpeak -t data/chip-seq/bam_files/H3K4R1.bam -c data/chip-seq/bam_files/inputR1.bam -f BAM -g 800000000 --broad --min-length 1000 --broad-cutoff 0.1 -n H3K4_input_R1 --outdir data/chip-seq/macs_peaks/H3K4_input_R1 > data/chip-seq/macs_peaks/H3K4_input_R1/macs.log 2>&1 || true\n",
      "epic2 -t data/chip-seq/bam_files/H3K4R1.bam -c data/chip-seq/bam_files/inputR1.bam --chromsizes data/chr_sizes/Lsyl_chr_sizes.tsv -m 0 --output data/chip-seq/epic_peaks/H3K4_input_R1.tsv >data/chip-seq/epic_peaks/H3K4_input_R1.log 2>&1 || true\n",
      "awk '{print $1\"\t\"$2\"\t\"$3}' data/chip-seq/epic_peaks/H3K4_input_R1.tsv > data/chip-seq/epic_peaks/H3K4_input_R1.bed\n",
      "macs3 callpeak -t data/chip-seq/bam_files/H3K4R2.bam -c data/chip-seq/bam_files/inputR2.bam -f BAM -g 800000000 --broad --min-length 1000 --broad-cutoff 0.1 -n H3K4_input_R2 --outdir data/chip-seq/macs_peaks/H3K4_input_R2 > data/chip-seq/macs_peaks/H3K4_input_R2/macs.log 2>&1 || true\n",
      "epic2 -t data/chip-seq/bam_files/H3K4R2.bam -c data/chip-seq/bam_files/inputR2.bam --chromsizes data/chr_sizes/Lsyl_chr_sizes.tsv -m 0 --output data/chip-seq/epic_peaks/H3K4_input_R2.tsv >data/chip-seq/epic_peaks/H3K4_input_R2.log 2>&1 || true\n",
      "awk '{print $1\"\t\"$2\"\t\"$3}' data/chip-seq/epic_peaks/H3K4_input_R2.tsv > data/chip-seq/epic_peaks/H3K4_input_R2.bed\n",
      "Proportion of deleted peaks in H3K4_input: 0.16934763181411974\n",
      "macs3 callpeak -t data/chip-seq/bam_files/H3K4R1.bam -c data/chip-seq/bam_files/noabaR1.bam -f BAM -g 800000000 --broad --min-length 1000 --broad-cutoff 0.1 -n H3K4_noaba_R1 --outdir data/chip-seq/macs_peaks/H3K4_noaba_R1 > data/chip-seq/macs_peaks/H3K4_noaba_R1/macs.log 2>&1 || true\n",
      "epic2 -t data/chip-seq/bam_files/H3K4R1.bam -c data/chip-seq/bam_files/noabaR1.bam --chromsizes data/chr_sizes/Lsyl_chr_sizes.tsv -m 0 --output data/chip-seq/epic_peaks/H3K4_noaba_R1.tsv >data/chip-seq/epic_peaks/H3K4_noaba_R1.log 2>&1 || true\n",
      "awk '{print $1\"\t\"$2\"\t\"$3}' data/chip-seq/epic_peaks/H3K4_noaba_R1.tsv > data/chip-seq/epic_peaks/H3K4_noaba_R1.bed\n",
      "macs3 callpeak -t data/chip-seq/bam_files/H3K4R2.bam -c data/chip-seq/bam_files/noabaR2.bam -f BAM -g 800000000 --broad --min-length 1000 --broad-cutoff 0.1 -n H3K4_noaba_R2 --outdir data/chip-seq/macs_peaks/H3K4_noaba_R2 > data/chip-seq/macs_peaks/H3K4_noaba_R2/macs.log 2>&1 || true\n",
      "epic2 -t data/chip-seq/bam_files/H3K4R2.bam -c data/chip-seq/bam_files/noabaR2.bam --chromsizes data/chr_sizes/Lsyl_chr_sizes.tsv -m 0 --output data/chip-seq/epic_peaks/H3K4_noaba_R2.tsv >data/chip-seq/epic_peaks/H3K4_noaba_R2.log 2>&1 || true\n",
      "awk '{print $1\"\t\"$2\"\t\"$3}' data/chip-seq/epic_peaks/H3K4_noaba_R2.tsv > data/chip-seq/epic_peaks/H3K4_noaba_R2.bed\n",
      "Proportion of deleted peaks in H3K4_noaba: 0.1116214974735875\n"
     ]
    }
   ],
   "source": [
    "enriched = 'H3K4'\n",
    "input = ['input', 'noaba']\n",
    "replicate = ['R1', 'R2']\n",
    "merging_distance = 50_000\n",
    "\n",
    "for i in input:\n",
    "    for r in replicate:\n",
    "        call_peaks(enriched, i, r, merging_distance)\n",
    "    intersect_replicates(enriched, i)"
   ]
  },
  {
   "cell_type": "markdown",
   "metadata": {},
   "source": [
    "# H3K9me2\n",
    "\n",
    "mouse antibody - control noAbG"
   ]
  },
  {
   "cell_type": "code",
   "execution_count": 4,
   "metadata": {},
   "outputs": [
    {
     "name": "stdout",
     "output_type": "stream",
     "text": [
      "macs3 callpeak -t data/chip-seq/bam_files/H3K9R1.bam -c data/chip-seq/bam_files/inputR1.bam -f BAM -g 800000000 --broad --min-length 1000 --broad-cutoff 0.1 -n H3K9_input_R1 --outdir data/chip-seq/macs_peaks/H3K9_input_R1 > data/chip-seq/macs_peaks/H3K9_input_R1/macs.log 2>&1 || true\n",
      "epic2 -t data/chip-seq/bam_files/H3K9R1.bam -c data/chip-seq/bam_files/inputR1.bam --chromsizes data/chr_sizes/Lsyl_chr_sizes.tsv -m 0 --output data/chip-seq/epic_peaks/H3K9_input_R1.tsv >data/chip-seq/epic_peaks/H3K9_input_R1.log 2>&1 || true\n",
      "awk '{print $1\"\t\"$2\"\t\"$3}' data/chip-seq/epic_peaks/H3K9_input_R1.tsv > data/chip-seq/epic_peaks/H3K9_input_R1.bed\n",
      "macs3 callpeak -t data/chip-seq/bam_files/H3K9R2.bam -c data/chip-seq/bam_files/inputR2.bam -f BAM -g 800000000 --broad --min-length 1000 --broad-cutoff 0.1 -n H3K9_input_R2 --outdir data/chip-seq/macs_peaks/H3K9_input_R2 > data/chip-seq/macs_peaks/H3K9_input_R2/macs.log 2>&1 || true\n",
      "epic2 -t data/chip-seq/bam_files/H3K9R2.bam -c data/chip-seq/bam_files/inputR2.bam --chromsizes data/chr_sizes/Lsyl_chr_sizes.tsv -m 0 --output data/chip-seq/epic_peaks/H3K9_input_R2.tsv >data/chip-seq/epic_peaks/H3K9_input_R2.log 2>&1 || true\n",
      "awk '{print $1\"\t\"$2\"\t\"$3}' data/chip-seq/epic_peaks/H3K9_input_R2.tsv > data/chip-seq/epic_peaks/H3K9_input_R2.bed\n",
      "Proportion of deleted peaks in H3K9_input: 0.3414071510957324\n",
      "macs3 callpeak -t data/chip-seq/bam_files/H3K9R1.bam -c data/chip-seq/bam_files/noabgR1.bam -f BAM -g 800000000 --broad --min-length 1000 --broad-cutoff 0.1 -n H3K9_noabg_R1 --outdir data/chip-seq/macs_peaks/H3K9_noabg_R1 > data/chip-seq/macs_peaks/H3K9_noabg_R1/macs.log 2>&1 || true\n",
      "epic2 -t data/chip-seq/bam_files/H3K9R1.bam -c data/chip-seq/bam_files/noabgR1.bam --chromsizes data/chr_sizes/Lsyl_chr_sizes.tsv -m 0 --output data/chip-seq/epic_peaks/H3K9_noabg_R1.tsv >data/chip-seq/epic_peaks/H3K9_noabg_R1.log 2>&1 || true\n",
      "awk '{print $1\"\t\"$2\"\t\"$3}' data/chip-seq/epic_peaks/H3K9_noabg_R1.tsv > data/chip-seq/epic_peaks/H3K9_noabg_R1.bed\n",
      "macs3 callpeak -t data/chip-seq/bam_files/H3K9R2.bam -c data/chip-seq/bam_files/noabgR2.bam -f BAM -g 800000000 --broad --min-length 1000 --broad-cutoff 0.1 -n H3K9_noabg_R2 --outdir data/chip-seq/macs_peaks/H3K9_noabg_R2 > data/chip-seq/macs_peaks/H3K9_noabg_R2/macs.log 2>&1 || true\n",
      "epic2 -t data/chip-seq/bam_files/H3K9R2.bam -c data/chip-seq/bam_files/noabgR2.bam --chromsizes data/chr_sizes/Lsyl_chr_sizes.tsv -m 0 --output data/chip-seq/epic_peaks/H3K9_noabg_R2.tsv >data/chip-seq/epic_peaks/H3K9_noabg_R2.log 2>&1 || true\n",
      "awk '{print $1\"\t\"$2\"\t\"$3}' data/chip-seq/epic_peaks/H3K9_noabg_R2.tsv > data/chip-seq/epic_peaks/H3K9_noabg_R2.bed\n",
      "Proportion of deleted peaks in H3K9_noabg: 0.8842105263157894\n"
     ]
    }
   ],
   "source": [
    "enriched = 'H3K9'\n",
    "input = ['input', 'noabg']\n",
    "replicate = ['R1', 'R2']\n",
    "merging_distance = 50_000\n",
    "\n",
    "for i in input:\n",
    "    for r in replicate:\n",
    "        call_peaks(enriched, i, r, merging_distance)\n",
    "    intersect_replicates(enriched, i)"
   ]
  },
  {
   "cell_type": "markdown",
   "metadata": {},
   "source": [
    "# Selection between input sources\n",
    "For each target, there are two possible sources of control data, either input or no antibody control.\n",
    "To maximize reliability of the results, we choose the source for each target based on how similar the peak calling is between replicates\n",
    "Chosen metric to determine the similarity between replicates is the proportion of peaks that do not overlap between replicates."
   ]
  },
  {
   "cell_type": "code",
   "execution_count": 5,
   "metadata": {},
   "outputs": [
    {
     "name": "stdout",
     "output_type": "stream",
     "text": [
      "Proportion of deleted peaks in CenH3_input: 0.2456461961503208\n",
      "Proportion of deleted peaks in CenH3_noaba: 0.44972067039106145\n",
      "Proportion of deleted peaks in H3K4_input: 0.16934763181411974\n",
      "Proportion of deleted peaks in H3K4_noaba: 0.1116214974735875\n",
      "Proportion of deleted peaks in H3K9_input: 0.3414071510957324\n",
      "Proportion of deleted peaks in H3K9_noabg: 0.8842105263157894\n"
     ]
    }
   ],
   "source": [
    "intersect_replicates('CenH3', 'input')\n",
    "intersect_replicates('CenH3', 'noaba')\n",
    "intersect_replicates('H3K4', 'input')\n",
    "intersect_replicates('H3K4', 'noaba')\n",
    "intersect_replicates('H3K9', 'input')\n",
    "intersect_replicates('H3K9', 'noabg')"
   ]
  },
  {
   "cell_type": "markdown",
   "metadata": {},
   "source": [
    "rename chosen intersected peaks to make them quickly accessible:\n",
    "```bash\n",
    "cd data/chip-seq/consensus_peaks\n",
    "ln CenH3_input_intersected_replicates.bed CenH3_peaks.bed\n",
    "ln H3K4_noaba_intersected_replicates.bed H3K4_peaks.bed\n",
    "ln H3K9_input_intersected_replicates.bed H3K9_peaks.bed\n",
    "```\n",
    "\n"
   ]
  },
  {
   "cell_type": "markdown",
   "metadata": {},
   "source": [
    "# Merging close peaks to units - silhouette scores, sum of squares, gap size distribution\n",
    "[merging optimization notebook](https://github.com/437364/Repeat-based-holocentromeres-of-Luzula-sylvatica/blob/main/notebooks/merging_distance_optimization.ipynb)"
   ]
  },
  {
   "cell_type": "markdown",
   "metadata": {},
   "source": [
    "# Fixing the issue with epic2 peaks going beyond chromosome bounds\n",
    "epic2 calls peaks in windows\n",
    "\n",
    "the last window ends beyond chromosome size\n",
    "\n",
    "this causes a problem with using the output in bedtools"
   ]
  },
  {
   "cell_type": "code",
   "execution_count": 10,
   "metadata": {},
   "outputs": [],
   "source": [
    "import pybedtools\n",
    "bed_path = 'data/chip-seq/consensus_peaks/H3K9_peaks.bed'\n",
    "chr_sizes = 'data/chr_sizes/Lsyl_chr_sizes.tsv' # format: chrom \\t size\n",
    "bed = pybedtools.BedTool(bed_path)\n",
    "chromosomewide_windows = bed.window_maker(g=chr_sizes, w=100_000_000_000)\n",
    "bed_cropped = bed.intersect(b=chromosomewide_windows).saveas(bed_path)\n"
   ]
  }
 ],
 "metadata": {
  "kernelspec": {
   "display_name": "macs3",
   "language": "python",
   "name": "python3"
  },
  "language_info": {
   "codemirror_mode": {
    "name": "ipython",
    "version": 3
   },
   "file_extension": ".py",
   "mimetype": "text/x-python",
   "name": "python",
   "nbconvert_exporter": "python",
   "pygments_lexer": "ipython3",
   "version": "3.8.18"
  }
 },
 "nbformat": 4,
 "nbformat_minor": 2
}
