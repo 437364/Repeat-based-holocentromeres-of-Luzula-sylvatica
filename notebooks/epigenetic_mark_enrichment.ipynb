{
 "cells": [
  {
   "cell_type": "markdown",
   "metadata": {},
   "source": [
    "# Epigenetic feature enrichment signal\n",
    "create bigwigs showing feature enrichment\n",
    "\n",
    "this data will be used for metaplots and overall feature distribution plot from pygenometracks\n",
    "\n",
    "input source for each target was chosen based on similarity between the replicates (see [peak_calling_v2.ipynb](peak_caling_v2.ipynb))"
   ]
  },
  {
   "cell_type": "code",
   "execution_count": 2,
   "metadata": {},
   "outputs": [],
   "source": [
    "import os"
   ]
  },
  {
   "cell_type": "markdown",
   "metadata": {},
   "source": [
    "# Process bam file replicates to single bigwig file\n",
    "step 1 - entriched target vs input\n",
    "\n",
    "step 2 - replicate 1 vs replicate 2"
   ]
  },
  {
   "cell_type": "code",
   "execution_count": 3,
   "metadata": {},
   "outputs": [],
   "source": [
    "bam_dir = 'data/chip-seq/bam_files/'\n",
    "output_dir = 'data/chip-seq/compared_bigwig/'\n",
    "replicates = ['R1', 'R2']\n",
    "if not os.path.exists(output_dir):\n",
    "    os.makedirs(output_dir)\n",
    "\n",
    "def compare_bam(enriched, input, output) -> None:\n",
    "    if not os.path.exists(enriched+'.bai'):\n",
    "        command = 'samtools index ' + enriched\n",
    "        print(command)\n",
    "        os.system(command)\n",
    "    if not os.path.exists(input+'.bai'):\n",
    "        command = 'samtools index ' + input\n",
    "        print(command)\n",
    "        os.system(command) \n",
    "    log = output + '.log'\n",
    "    command = 'bamCompare -b1 {} -b2 {} -o {} -p max/2 --ignoreDuplicates --normalizeUsing RPKM --binSize 20 --smoothLength 60 --centerReads --extendReads 220 --scaleFactorsMethod None > {} 2>&1 || true'.format(enriched, input, output, log)\n",
    "    print(command)\n",
    "    os.system(command)\n",
    "\n",
    "def average_bigwigs(bigwig1, bigwig2, output) -> None:\n",
    "    #log = output + '.log'\n",
    "    command = 'bigwigAverage -b {} {} -o {}'.format(bigwig1, bigwig2, output)\n",
    "    print(command)\n",
    "    os.system(command)\n",
    "\n",
    "def process_bams(target, input_type, replicates):\n",
    "    output_paths = []\n",
    "    for replicate in replicates:\n",
    "        enriched = bam_dir + target + replicate + '.bam'\n",
    "        input = bam_dir + input_type + replicate + '.bam'\n",
    "        output = output_dir + target + replicate + '_vs_' + input_type + replicate + '.bw'\n",
    "        output_paths.append(output)\n",
    "        compare_bam(enriched, input, output)\n",
    "    average_bigwigs(output_paths[0], output_paths[1], output_dir + target + '_average.bw')\n"
   ]
  },
  {
   "cell_type": "code",
   "execution_count": 9,
   "metadata": {},
   "outputs": [
    {
     "name": "stdout",
     "output_type": "stream",
     "text": [
      "bamCompare -b1 data/chip-seq/bam_files/CenH3R1.bam -b2 data/chip-seq/bam_files/inputR1.bam -o data/chip-seq/compared_bigwig/CenH3R1_vs_inputR1.bw -p max/2 --ignoreDuplicates --normalizeUsing RPKM --binSize 20 --smoothLength 60 --centerReads --extendReads 220 --scaleFactorsMethod None > data/chip-seq/compared_bigwig/CenH3R1_vs_inputR1.bw.log 2>&1 || true\n"
     ]
    }
   ],
   "source": [
    "process_bams('CenH3', 'input', replicates)\n",
    "process_bams('H3K4', 'noaba', replicates)\n",
    "process_bams('H3K9', 'input', replicates)   \n",
    "\n"
   ]
  },
  {
   "cell_type": "markdown",
   "metadata": {},
   "source": [
    "# Enrichment profiles (metaplots)\n"
   ]
  },
  {
   "cell_type": "markdown",
   "metadata": {},
   "source": [
    "## compute matrix\n",
    "\n",
    "```bash\n",
    "computeMatrix scale-regions -S CenH3_average.bw H3K4_average.bw H3K9_average.bw -R Luzula_sylvatica_genes.bed Lusy1_merged_15k.bed Lusy2_merged_15k.bed LTR-TEs.bed -o epigenetic_marks.matrix.gz  -m 4000 -b 2000 -a 2000 -p 16 --smartLabels\n",
    "```\n",
    "\n",
    "## plot profile\n",
    "```bash\n",
    "plotProfile -m epigenetic_marks.matrix.gz --startLabel start --endLabel end -out profile.svg --plotFileFormat svg --regionsLabel genes Lusy1 Lusy2 LTR-TEs --samplesLabel CenH3 H3K4me3 H3K9me2 --numPlotsPerRow 1 --colors \"#0004f2ff\" \"#d42afff1\" \"#008203ff\" \"#fba604ff\"\n",
    "```\n"
   ]
  }
 ],
 "metadata": {
  "kernelspec": {
   "display_name": "deeptools",
   "language": "python",
   "name": "python3"
  },
  "language_info": {
   "codemirror_mode": {
    "name": "ipython",
    "version": 3
   },
   "file_extension": ".py",
   "mimetype": "text/x-python",
   "name": "python",
   "nbconvert_exporter": "python",
   "pygments_lexer": "ipython3",
   "version": "3.10.13"
  }
 },
 "nbformat": 4,
 "nbformat_minor": 2
}
